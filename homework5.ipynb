{
 "cells": [
  {
   "cell_type": "markdown",
   "metadata": {},
   "source": [
    "Вы успешно создали полноценную торговую стратегию на основе модели машинного обучения и обеспечили фиксацию и сравнение метрик полученных моделей.\n",
    "\n",
    "Вы решаете построить более сложные модели машинного обучения и хотите использовать нейросетевые модели, в том числе для обработки временных рядов и глубокие нейронные сети. Здесь вам могут помочь методы рекуррентных сетей и современные трансформерные архитектуры.\n",
    "\n",
    "Поговорив с коллегами, вы понимаете, что самостоятельно построить и обучить действительно сложные архитектуры будет сложно и решаете воспользоваться предобученными свободно распространяемыми моделями.\n",
    "\n",
    "На основании вышесказанного вам необходимо построить несколько моделей на основе нейронных сетей, позволяющих прогнозировать оптимальное торговое действие.\n",
    "\n",
    "На основе представленной информации, вам предлагается:\n",
    "\n",
    "Создать модель (торговую стратегию) на основе нейронных сетей для прогнозирования оптимального торгового действия. Можно использовать, как самостоятельно обученные архитектуры, так и использовать предобученные сети или фреймворки.\n",
    "Провести тестирование разработанной стратегии на валидационном датасете.\n",
    "Зафиксировать метрики модели для дальнейшего сравнения экспериментов.\n",
    "Сформировать дашборд, показывающий эффективность различных торговых\n",
    "стратегий."
   ]
  },
  {
   "cell_type": "markdown",
   "metadata": {},
   "source": [
    "## Setup and Imports\n",
    "Install required packages and import dependencies"
   ]
  },
  {
   "cell_type": "code",
   "execution_count": null,
   "metadata": {},
   "outputs": [],
   "source": [
    "%pip install backtesting nbformat matplotlib numpy pandas scikit-learn torch tqdm --quiet"
   ]
  },
  {
   "cell_type": "code",
   "execution_count": null,
   "metadata": {},
   "outputs": [],
   "source": [
    "import os\n",
    "import traceback\n",
    "from matplotlib import pyplot as plt\n",
    "import numpy as np\n",
    "import pandas as pd\n",
    "from sklearn.metrics import accuracy_score\n",
    "import torch\n",
    "import torch.nn as nn\n",
    "import torch.optim as optim\n",
    "from torch.utils.data import DataLoader, TensorDataset\n",
    "from assets.DataProvider import DataProvider\n",
    "from assets.FeaturesGenerator import FeaturesGenerator\n",
    "from assets.hw5.HybridStrategySMA_ML import HybridStrategySMA_ML\n",
    "from assets.hw5.Models import StockCNN, StockCNN_LSTM, StockGRU, StockLSTM\n",
    "from assets.hw5.SMABaselineGenerator import SMABaselineGenerator\n",
    "from backtesting import Backtest, Strategy"
   ]
  },
  {
   "cell_type": "markdown",
   "metadata": {},
   "source": [
    "## Helper Functions\n",
    "Define utility functions for sequence creation, model training, and testing"
   ]
  },
  {
   "cell_type": "code",
   "execution_count": null,
   "metadata": {},
   "outputs": [],
   "source": [
    "def create_sequences(data_values, target_values, window_size):\n",
    "    \"\"\"Create sequences for time series data\"\"\"\n",
    "    X, y = [], []\n",
    "    for i in range(len(data_values) - window_size):\n",
    "        X.append(data_values[i:(i + window_size)])\n",
    "        y.append(target_values[i + window_size])\n",
    "    return np.array(X), np.array(y)"
   ]
  },
  {
   "cell_type": "code",
   "execution_count": null,
   "metadata": {},
   "outputs": [],
   "source": [
    "def train_model(title, model, dataloader, num_epochs=10):\n",
    "    \"\"\"Train a PyTorch model\"\"\"\n",
    "    criterion = nn.CrossEntropyLoss()\n",
    "    optimizer = optim.Adam(model.parameters(), lr=0.001)\n",
    "\n",
    "    for epoch in range(num_epochs):\n",
    "        for inputs, labels in dataloader:\n",
    "            optimizer.zero_grad()\n",
    "            outputs = model(inputs)\n",
    "            loss = criterion(outputs, labels)\n",
    "            loss.backward()\n",
    "            optimizer.step()\n",
    "        print(f\"Epoch [{epoch+1}/{num_epochs}], Loss: {loss.item():.4f}\")\n",
    "\n",
    "    model.eval()\n",
    "    return model"
   ]
  },
  {
   "cell_type": "code",
   "execution_count": null,
   "metadata": {},
   "outputs": [],
   "source": [
    "def test_model(title, model, dataloader):\n",
    "    \"\"\"Test a trained model and calculate accuracy\"\"\"\n",
    "    all_predictions = []\n",
    "    all_targets = []\n",
    "    with torch.no_grad():\n",
    "        for inputs, targets in dataloader:\n",
    "            outputs = model(inputs)\n",
    "            _, predicted = torch.max(outputs, 1)\n",
    "            all_predictions.extend(predicted.numpy())\n",
    "            all_targets.extend(targets.numpy())\n",
    "    \n",
    "    # Calculate accuracy\n",
    "    accuracy = accuracy_score(all_targets, all_predictions)\n",
    "    print(f\"{title} Accuracy: {accuracy:.4f}\")\n",
    "    return accuracy\n",
    "    # Plot actual vs predicted labels\n",
    "    plt.figure(figsize=(12, 6))\n",
    "    plt.plot(all_targets[-30:], label='Actual', color='blue', linestyle='--', alpha=0.7)\n",
    "    plt.plot(all_predictions[-30:], label='Predicted', color='red', alpha=0.7)\n",
    "    plt.title(title)\n",
    "    plt.xlabel(\"Time Step\")\n",
    "    plt.ylabel(\"Signal (0=Sell, 1=Hold, 2=Buy)\")\n",
    "    plt.legend()\n",
    "    plt.show()\n",
    "    \n",
    "    return accuracy"
   ]
  },
  {
   "cell_type": "markdown",
   "metadata": {},
   "source": [
    "## Main Trading Strategy Implementation"
   ]
  },
  {
   "cell_type": "code",
   "execution_count": null,
   "metadata": {},
   "outputs": [],
   "source": [
    "ticker = 'BTC/USDT'\n",
    "timeframe = '1h'\n",
    "\n",
    "# Initial parameters\n",
    "strategy_best_params = {}\n",
    "threshold = 0.2"
   ]
  },
  {
   "cell_type": "code",
   "execution_count": null,
   "metadata": {},
   "outputs": [],
   "source": [
    "# 1. Load the data\n",
    "data_provider = DataProvider(tickers=[ticker], skip_dashboard=True)\n",
    "if ticker not in data_provider.data:\n",
    "    if not data_provider.data_load():\n",
    "        data_provider.data_request()\n",
    "        data_provider.data_save()\n",
    "    data_provider.clean_data()\n",
    "data = data_provider.data[ticker]"
   ]
  },
  {
   "cell_type": "code",
   "execution_count": null,
   "metadata": {},
   "outputs": [],
   "source": [
    "# 2. Generate features\n",
    "features_generator = FeaturesGenerator()\n",
    "data_initial_ohlc = data.copy()\n",
    "feature_matrix, feature_names = features_generator.prepare_features(data_initial_ohlc)\n",
    "num_features = feature_matrix.shape[1]\n",
    "print(f\"Number of features generated: {num_features} ({len(feature_names)} names)\")"
   ]
  },
  {
   "cell_type": "code",
   "execution_count": null,
   "metadata": {},
   "outputs": [],
   "source": [
    "# 3. Generate target using SMA strategy\n",
    "strategy_hw2 = SMABaselineGenerator(ticker, timeframe, data_provider)\n",
    "strategy_best_results, strategy_best_params, strategy_trades = strategy_hw2.evaluate_strategies()"
   ]
  },
  {
   "cell_type": "code",
   "execution_count": null,
   "metadata": {},
   "outputs": [],
   "source": [
    "# 4. Prepare data for ML\n",
    "data_extended = feature_matrix.copy()\n",
    "if strategy_trades is None or strategy_trades.empty:\n",
    "    print(\"WARN: No trades from SMA strategy. PnL and ReturnPct will be zero for y_base generation.\")\n",
    "    data_extended['PnL'] = 0.0\n",
    "    data_extended['ReturnPct'] = 0.0\n",
    "else:\n",
    "    strategy_trades = strategy_trades.set_index('EntryTime')\n",
    "    data_extended = data_extended.merge(strategy_trades[['PnL', 'ReturnPct']], \n",
    "                                        left_index=True, right_index=True, how='left')\n",
    "    data_extended[['PnL', 'ReturnPct']] = data_extended[['PnL', 'ReturnPct']].fillna(value=0)\n",
    "\n",
    "trades_return_pct = data_extended['ReturnPct'].values\n",
    "y_base = [1 if x > threshold else 0 for x in trades_return_pct]"
   ]
  },
  {
   "cell_type": "code",
   "execution_count": null,
   "metadata": {},
   "outputs": [],
   "source": [
    "# 5. Create sequences for time series models\n",
    "window_size = 30\n",
    "X_np, y_np = create_sequences(feature_matrix.values, np.array(y_base), window_size)\n",
    "print(f\"Sequence shapes - X: {X_np.shape}, y: {y_np.shape}\")"
   ]
  },
  {
   "cell_type": "code",
   "execution_count": null,
   "metadata": {},
   "outputs": [],
   "source": [
    "# 6. Prepare PyTorch datasets\n",
    "X = torch.tensor(X_np, dtype=torch.float32)\n",
    "y = torch.tensor(y_np, dtype=torch.long)\n",
    "dataset = TensorDataset(X, y)\n",
    "dataloader = DataLoader(dataset, batch_size=32, shuffle=True)"
   ]
  },
  {
   "cell_type": "code",
   "execution_count": null,
   "metadata": {},
   "outputs": [],
   "source": [
    "# 7. Initialize and train models\n",
    "models = {\n",
    "    'CNN': {'model': StockCNN(input_channels=num_features, window_size=window_size)},\n",
    "    'LSTM': {'model': StockLSTM(input_size=num_features)},\n",
    "    'GRU': {'model': StockGRU(input_size=num_features)},\n",
    "    'CNN_LSTM': {'model': StockCNN_LSTM(input_channels=num_features)}\n",
    "}\n",
    "\n",
    "# Train and test each model\n",
    "for model_key, model_dict in models.items():\n",
    "    print(f\"\\nTraining {model_key}...\")\n",
    "    models[model_key]['model_trained'] = train_model(model_key, model_dict['model'], dataloader)\n",
    "    models[model_key]['accuracy'] = test_model(model_key, model_dict['model_trained'], dataloader)"
   ]
  },
  {
   "cell_type": "code",
   "execution_count": null,
   "metadata": {},
   "outputs": [],
   "source": [
    "# 8. Backtest hybrid strategies\n",
    "all_backtest_results = {}\n",
    "for model_key, model_dict in models.items():\n",
    "    print(f\"\\n\\n\\nPreparing backtest for model: {model_key}...\")\n",
    "    print(f\"Running backtest for {model_key} using SMA logic (model not integrated yet).\")\n",
    "    bt = Backtest(data.copy(),  # Pass data.copy()\n",
    "                    HybridStrategySMA_ML, \n",
    "                    cash=10000000, \n",
    "                    commission=.002)\n",
    "    try:\n",
    "        # Pass sma_short and sma_long to bt.run()\n",
    "        stats = bt.run(\n",
    "            sma_short=strategy_best_params['sma_short'],\n",
    "            sma_long=strategy_best_params['sma_long'],\n",
    "            model=models[model_key]['model_trained']\n",
    "        )\n",
    "        print(f\"--- Backtest Results for {model_key} driven strategy ---\")\n",
    "        print(stats)\n",
    "        all_backtest_results[model_key] = {'stats': stats}\n",
    "        plot_path = \"backtest_plots\"\n",
    "        os.makedirs(plot_path, exist_ok=True)\n",
    "        plot_filename = os.path.join(plot_path, f\"backtest_plot_{model_key}.html\")\n",
    "        try:\n",
    "            bt.plot(filename=plot_filename, open_browser=False)\n",
    "            all_backtest_results[model_key]['plot_file'] = plot_filename\n",
    "            print(f\"Backtest plot for {model_key} saved to {plot_filename}\")\n",
    "        except Exception as e:\n",
    "            print(f\"ERROR: Could not generate plot for {model_key}: {e}\")\n",
    "            all_backtest_results[model_key]['plot_file'] = None\n",
    "            \n",
    "    except Exception as e:\n",
    "        print(f\"ERROR during backtest for {model_key}: {e}\")\n",
    "        print(\"This might be due to HW2Strategy_SMA not being fully adapted for model-based trading,\")\n",
    "        print(\"or issues with data slicing/feature access within the strategy's next() method.\")\n",
    "        traceback.print_exc() # Print detailed traceback"
   ]
  },
  {
   "cell_type": "code",
   "execution_count": null,
   "metadata": {},
   "outputs": [],
   "source": [
    "# Print summary\n",
    "print(\"\\n\\n--- Summary of All Backtest Results ---\")\n",
    "\n",
    "print(\"\\n\\n--- Original strategy stats ---\")\n",
    "print(strategy_best_results)\n",
    "\n",
    "for model_key, strategy_results in all_backtest_results.items():\n",
    "    print(f\"\\n--- Results for {model_key} ---\")\n",
    "    print(strategy_results['stats'])\n",
    "    if 'plot_file' in strategy_results and strategy_results['plot_file']:\n",
    "        print(f\"Plot saved to: {strategy_results['plot_file']}\")\n",
    "    else:\n",
    "        print(\"Plot generation failed or was not attempted.\")"
   ]
  },
  {
   "cell_type": "code",
   "execution_count": null,
   "metadata": {},
   "outputs": [],
   "source": [
    "def plot_strategy_comparisons(strategy_best_results, all_backtest_results):\n",
    "    # Extract key metrics for comparison\n",
    "    metrics = {\n",
    "        'Return [%]': [],\n",
    "        'Win Rate [%]': [],\n",
    "        'Sharpe Ratio': [],\n",
    "        'Max Drawdown [%]': []\n",
    "    }\n",
    "    strategy_names = ['SMA_Base'] + list(all_backtest_results.keys())\n",
    "    \n",
    "    # Add baseline SMA results\n",
    "    metrics['Return [%]'].append(strategy_best_results['Return [%]'])\n",
    "    metrics['Win Rate [%]'].append(strategy_best_results['Win Rate [%]'])\n",
    "    metrics['Sharpe Ratio'].append(strategy_best_results['Sharpe Ratio'])\n",
    "    metrics['Max Drawdown [%]'].append(strategy_best_results['Max. Drawdown [%]'])\n",
    "    \n",
    "    # Add hybrid strategy results\n",
    "    for model_key in all_backtest_results.keys():\n",
    "        stats = all_backtest_results[model_key]['stats']\n",
    "        metrics['Return [%]'].append(stats['Return [%]'])\n",
    "        metrics['Win Rate [%]'].append(stats['Win Rate [%]'])\n",
    "        metrics['Sharpe Ratio'].append(stats['Sharpe Ratio'])\n",
    "        metrics['Max Drawdown [%]'].append(stats['Max. Drawdown [%]'])\n",
    "    \n",
    "    # Create subplots for each metric\n",
    "    fig, axes = plt.subplots(2, 2, figsize=(15, 12))\n",
    "    fig.suptitle('Strategy Performance Comparison', fontsize=16)\n",
    "    \n",
    "    for (metric, values), ax in zip(metrics.items(), axes.flat):\n",
    "        colors = ['blue'] + ['green' if v > values[0] else 'red' for v in values[1:]]\n",
    "        if metric in ['Max Drawdown [%]']:  # Inverse colors for metrics where lower is better\n",
    "            colors = ['blue'] + ['green' if v < values[0] else 'red' for v in values[1:]]\n",
    "            \n",
    "        bars = ax.bar(strategy_names, values, color=colors)\n",
    "        ax.set_title(metric)\n",
    "        ax.set_xticklabels(strategy_names, rotation=45)\n",
    "        \n",
    "        # Add value labels on top of each bar\n",
    "        for bar in bars:\n",
    "            height = bar.get_height()\n",
    "            ax.text(bar.get_x() + bar.get_width()/2., height,\n",
    "                    f'{height:.2f}',\n",
    "                    ha='center', va='bottom')\n",
    "    \n",
    "    plt.tight_layout()\n",
    "    plt.show()\n",
    "    \n",
    "    # Create a summary table\n",
    "    summary_df = pd.DataFrame(metrics, index=strategy_names)\n",
    "    display(summary_df)\n",
    "\n",
    "# Plot the comparisons\n",
    "plot_strategy_comparisons(strategy_best_results, all_backtest_results)"
   ]
  }
 ],
 "metadata": {
  "kernelspec": {
   "display_name": "otus",
   "language": "python",
   "name": "python3"
  },
  "language_info": {
   "codemirror_mode": {
    "name": "ipython",
    "version": 3
   },
   "file_extension": ".py",
   "mimetype": "text/x-python",
   "name": "python",
   "nbconvert_exporter": "python",
   "pygments_lexer": "ipython3",
   "version": "3.9.21"
  }
 },
 "nbformat": 4,
 "nbformat_minor": 4
}
