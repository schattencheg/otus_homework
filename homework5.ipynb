{
 "cells": [
  {
   "cell_type": "markdown",
   "metadata": {},
   "source": [
    "Вы успешно создали полноценную торговую стратегию на основе модели машинного обучения и обеспечили фиксацию и сравнение метрик полученных моделей.\n",
    "\n",
    "Вы решаете построить более сложные модели машинного обучения и хотите использовать нейросетевые модели, в том числе для обработки временных рядов и глубокие нейронные сети. Здесь вам могут помочь методы рекуррентных сетей и современные трансформерные архитектуры.\n",
    "\n",
    "Поговорив с коллегами, вы понимаете, что самостоятельно построить и обучить действительно сложные архитектуры будет сложно и решаете воспользоваться предобученными свободно распространяемыми моделями.\n",
    "\n",
    "На основании вышесказанного вам необходимо построить несколько моделей на основе нейронных сетей, позволяющих прогнозировать оптимальное торговое действие.\n",
    "\n",
    "На основе представленной информации, вам предлагается:\n",
    "\n",
    "Создать модель (торговую стратегию) на основе нейронных сетей для прогнозирования оптимального торгового действия. Можно использовать, как самостоятельно обученные архитектуры, так и использовать предобученные сети или фреймворки.\n",
    "Провести тестирование разработанной стратегии на валидационном датасете.\n",
    "Зафиксировать метрики модели для дальнейшего сравнения экспериментов.\n",
    "Сформировать дашборд, показывающий эффективность различных торговых\n",
    "стратегий."
   ]
  },
  {
   "cell_type": "markdown",
   "metadata": {},
   "source": [
    "## Setup and Imports\n",
    "Install required packages and import dependencies"
   ]
  },
  {
   "cell_type": "code",
   "execution_count": 1,
   "metadata": {},
   "outputs": [
    {
     "name": "stdout",
     "output_type": "stream",
     "text": [
      "Note: you may need to restart the kernel to use updated packages.\n"
     ]
    }
   ],
   "source": [
    "%pip install backtesting nbformat matplotlib numpy pandas scikit-learn torch tqdm --quiet"
   ]
  },
  {
   "cell_type": "code",
   "execution_count": 2,
   "metadata": {},
   "outputs": [
    {
     "name": "stderr",
     "output_type": "stream",
     "text": [
      "c:\\Users\\Owner\\anaconda3\\envs\\otus\\lib\\site-packages\\tqdm\\auto.py:21: TqdmWarning: IProgress not found. Please update jupyter and ipywidgets. See https://ipywidgets.readthedocs.io/en/stable/user_install.html\n",
      "  from .autonotebook import tqdm as notebook_tqdm\n",
      "g:\\Work\\Repos\\otus_homework\\backtesting\\_plotting.py:55: UserWarning: Jupyter Notebook detected. Setting Bokeh output to notebook. This may not work in Jupyter clients without JavaScript support, such as old IDEs. Reset with `backtesting.set_bokeh_output(notebook=False)`.\n",
      "  warnings.warn('Jupyter Notebook detected. '\n"
     ]
    },
    {
     "data": {
      "text/html": [
       "    <style>\n",
       "        .bk-notebook-logo {\n",
       "            display: block;\n",
       "            width: 20px;\n",
       "            height: 20px;\n",
       "            background-image: url(data:image/png;base64,iVBORw0KGgoAAAANSUhEUgAAABQAAAAUCAYAAACNiR0NAAAABHNCSVQICAgIfAhkiAAAAAlwSFlzAAALEgAACxIB0t1+/AAAABx0RVh0U29mdHdhcmUAQWRvYmUgRmlyZXdvcmtzIENTNui8sowAAAOkSURBVDiNjZRtaJVlGMd/1/08zzln5zjP1LWcU9N0NkN8m2CYjpgQYQXqSs0I84OLIC0hkEKoPtiH3gmKoiJDU7QpLgoLjLIQCpEsNJ1vqUOdO7ppbuec5+V+rj4ctwzd8IIbbi6u+8f1539dt3A78eXC7QizUF7gyV1fD1Yqg4JWz84yffhm0qkFqBogB9rM8tZdtwVsPUhWhGcFJngGeWrPzHm5oaMmkfEg1usvLFyc8jLRqDOMru7AyC8saQr7GG7f5fvDeH7Ej8CM66nIF+8yngt6HWaKh7k49Soy9nXurCi1o3qUbS3zWfrYeQDTB/Qj6kX6Ybhw4B+bOYoLKCC9H3Nu/leUTZ1JdRWkkn2ldcCamzrcf47KKXdAJllSlxAOkRgyHsGC/zRday5Qld9DyoM4/q/rUoy/CXh3jzOu3bHUVZeU+DEn8FInkPBFlu3+nW3Nw0mk6vCDiWg8CeJaxEwuHS3+z5RgY+YBR6V1Z1nxSOfoaPa4LASWxxdNp+VWTk7+4vzaou8v8PN+xo+KY2xsw6une2frhw05CTYOmQvsEhjhWjn0bmXPjpE1+kplmmkP3suftwTubK9Vq22qKmrBhpY4jvd5afdRA3wGjFAgcnTK2s4hY0/GPNIb0nErGMCRxWOOX64Z8RAC4oCXdklmEvcL8o0BfkNK4lUg9HTl+oPlQxdNo3Mg4Nv175e/1LDGzZen30MEjRUtmXSfiTVu1kK8W4txyV6BMKlbgk3lMwYCiusNy9fVfvvwMxv8Ynl6vxoByANLTWplvuj/nF9m2+PDtt1eiHPBr1oIfhCChQMBw6Aw0UulqTKZdfVvfG7VcfIqLG9bcldL/+pdWTLxLUy8Qq38heUIjh4XlzZxzQm19lLFlr8vdQ97rjZVOLf8nclzckbcD4wxXMidpX30sFd37Fv/GtwwhzhxGVAprjbg0gCAEeIgwCZyTV2Z1REEW8O4py0wsjeloKoMr6iCY6dP92H6Vw/oTyICIthibxjm/DfN9lVz8IqtqKYLUXfoKVMVQVVJOElGjrnnUt9T9wbgp8AyYKaGlqingHZU/uG2NTZSVqwHQTWkx9hxjkpWDaCg6Ckj5qebgBVbT3V3NNXMSiWSDdGV3hrtzla7J+duwPOToIg42ChPQOQjspnSlp1V+Gjdged7+8UN5CRAV7a5EdFNwCjEaBR27b3W890TE7g24NAP/mMDXRWrGoFPQI9ls/MWO2dWFAar/xcOIImbbpA3zgAAAABJRU5ErkJggg==);\n",
       "        }\n",
       "    </style>\n",
       "    <div>\n",
       "        <a href=\"https://bokeh.org\" target=\"_blank\" class=\"bk-notebook-logo\"></a>\n",
       "        <span id=\"d7dd1536-2cdb-4345-9de5-2ab9866ed838\">Loading BokehJS ...</span>\n",
       "    </div>\n"
      ]
     },
     "metadata": {},
     "output_type": "display_data"
    },
    {
     "data": {
      "application/javascript": "'use strict';\n(function(root) {\n  function now() {\n    return new Date();\n  }\n\n  const force = true;\n\n  if (typeof root._bokeh_onload_callbacks === \"undefined\" || force === true) {\n    root._bokeh_onload_callbacks = [];\n    root._bokeh_is_loading = undefined;\n  }\n\nconst JS_MIME_TYPE = 'application/javascript';\n  const HTML_MIME_TYPE = 'text/html';\n  const EXEC_MIME_TYPE = 'application/vnd.bokehjs_exec.v0+json';\n  const CLASS_NAME = 'output_bokeh rendered_html';\n\n  /**\n   * Render data to the DOM node\n   */\n  function render(props, node) {\n    const script = document.createElement(\"script\");\n    node.appendChild(script);\n  }\n\n  /**\n   * Handle when an output is cleared or removed\n   */\n  function handleClearOutput(event, handle) {\n    function drop(id) {\n      const view = Bokeh.index.get_by_id(id)\n      if (view != null) {\n        view.model.document.clear()\n        Bokeh.index.delete(view)\n      }\n    }\n\n    const cell = handle.cell;\n\n    const id = cell.output_area._bokeh_element_id;\n    const server_id = cell.output_area._bokeh_server_id;\n\n    // Clean up Bokeh references\n    if (id != null) {\n      drop(id)\n    }\n\n    if (server_id !== undefined) {\n      // Clean up Bokeh references\n      const cmd_clean = \"from bokeh.io.state import curstate; print(curstate().uuid_to_server['\" + server_id + \"'].get_sessions()[0].document.roots[0]._id)\";\n      cell.notebook.kernel.execute(cmd_clean, {\n        iopub: {\n          output: function(msg) {\n            const id = msg.content.text.trim()\n            drop(id)\n          }\n        }\n      });\n      // Destroy server and session\n      const cmd_destroy = \"import bokeh.io.notebook as ion; ion.destroy_server('\" + server_id + \"')\";\n      cell.notebook.kernel.execute(cmd_destroy);\n    }\n  }\n\n  /**\n   * Handle when a new output is added\n   */\n  function handleAddOutput(event, handle) {\n    const output_area = handle.output_area;\n    const output = handle.output;\n\n    // limit handleAddOutput to display_data with EXEC_MIME_TYPE content only\n    if ((output.output_type != \"display_data\") || (!Object.prototype.hasOwnProperty.call(output.data, EXEC_MIME_TYPE))) {\n      return\n    }\n\n    const toinsert = output_area.element.find(\".\" + CLASS_NAME.split(' ')[0]);\n\n    if (output.metadata[EXEC_MIME_TYPE][\"id\"] !== undefined) {\n      toinsert[toinsert.length - 1].firstChild.textContent = output.data[JS_MIME_TYPE];\n      // store reference to embed id on output_area\n      output_area._bokeh_element_id = output.metadata[EXEC_MIME_TYPE][\"id\"];\n    }\n    if (output.metadata[EXEC_MIME_TYPE][\"server_id\"] !== undefined) {\n      const bk_div = document.createElement(\"div\");\n      bk_div.innerHTML = output.data[HTML_MIME_TYPE];\n      const script_attrs = bk_div.children[0].attributes;\n      for (let i = 0; i < script_attrs.length; i++) {\n        toinsert[toinsert.length - 1].firstChild.setAttribute(script_attrs[i].name, script_attrs[i].value);\n        toinsert[toinsert.length - 1].firstChild.textContent = bk_div.children[0].textContent\n      }\n      // store reference to server id on output_area\n      output_area._bokeh_server_id = output.metadata[EXEC_MIME_TYPE][\"server_id\"];\n    }\n  }\n\n  function register_renderer(events, OutputArea) {\n\n    function append_mime(data, metadata, element) {\n      // create a DOM node to render to\n      const toinsert = this.create_output_subarea(\n        metadata,\n        CLASS_NAME,\n        EXEC_MIME_TYPE\n      );\n      this.keyboard_manager.register_events(toinsert);\n      // Render to node\n      const props = {data: data, metadata: metadata[EXEC_MIME_TYPE]};\n      render(props, toinsert[toinsert.length - 1]);\n      element.append(toinsert);\n      return toinsert\n    }\n\n    /* Handle when an output is cleared or removed */\n    events.on('clear_output.CodeCell', handleClearOutput);\n    events.on('delete.Cell', handleClearOutput);\n\n    /* Handle when a new output is added */\n    events.on('output_added.OutputArea', handleAddOutput);\n\n    /**\n     * Register the mime type and append_mime function with output_area\n     */\n    OutputArea.prototype.register_mime_type(EXEC_MIME_TYPE, append_mime, {\n      /* Is output safe? */\n      safe: true,\n      /* Index of renderer in `output_area.display_order` */\n      index: 0\n    });\n  }\n\n  // register the mime type if in Jupyter Notebook environment and previously unregistered\n  if (root.Jupyter !== undefined) {\n    const events = require('base/js/events');\n    const OutputArea = require('notebook/js/outputarea').OutputArea;\n\n    if (OutputArea.prototype.mime_types().indexOf(EXEC_MIME_TYPE) == -1) {\n      register_renderer(events, OutputArea);\n    }\n  }\n  if (typeof (root._bokeh_timeout) === \"undefined\" || force === true) {\n    root._bokeh_timeout = Date.now() + 5000;\n    root._bokeh_failed_load = false;\n  }\n\n  const NB_LOAD_WARNING = {'data': {'text/html':\n     \"<div style='background-color: #fdd'>\\n\"+\n     \"<p>\\n\"+\n     \"BokehJS does not appear to have successfully loaded. If loading BokehJS from CDN, this \\n\"+\n     \"may be due to a slow or bad network connection. Possible fixes:\\n\"+\n     \"</p>\\n\"+\n     \"<ul>\\n\"+\n     \"<li>re-rerun `output_notebook()` to attempt to load from CDN again, or</li>\\n\"+\n     \"<li>use INLINE resources instead, as so:</li>\\n\"+\n     \"</ul>\\n\"+\n     \"<code>\\n\"+\n     \"from bokeh.resources import INLINE\\n\"+\n     \"output_notebook(resources=INLINE)\\n\"+\n     \"</code>\\n\"+\n     \"</div>\"}};\n\n  function display_loaded(error = null) {\n    const el = document.getElementById(\"d7dd1536-2cdb-4345-9de5-2ab9866ed838\");\n    if (el != null) {\n      const html = (() => {\n        if (typeof root.Bokeh === \"undefined\") {\n          if (error == null) {\n            return \"BokehJS is loading ...\";\n          } else {\n            return \"BokehJS failed to load.\";\n          }\n        } else {\n          const prefix = `BokehJS ${root.Bokeh.version}`;\n          if (error == null) {\n            return `${prefix} successfully loaded.`;\n          } else {\n            return `${prefix} <b>encountered errors</b> while loading and may not function as expected.`;\n          }\n        }\n      })();\n      el.innerHTML = html;\n\n      if (error != null) {\n        const wrapper = document.createElement(\"div\");\n        wrapper.style.overflow = \"auto\";\n        wrapper.style.height = \"5em\";\n        wrapper.style.resize = \"vertical\";\n        const content = document.createElement(\"div\");\n        content.style.fontFamily = \"monospace\";\n        content.style.whiteSpace = \"pre-wrap\";\n        content.style.backgroundColor = \"rgb(255, 221, 221)\";\n        content.textContent = error.stack ?? error.toString();\n        wrapper.append(content);\n        el.append(wrapper);\n      }\n    } else if (Date.now() < root._bokeh_timeout) {\n      setTimeout(() => display_loaded(error), 100);\n    }\n  }\n\n  function run_callbacks() {\n    try {\n      root._bokeh_onload_callbacks.forEach(function(callback) {\n        if (callback != null)\n          callback();\n      });\n    } finally {\n      delete root._bokeh_onload_callbacks\n    }\n    console.debug(\"Bokeh: all callbacks have finished\");\n  }\n\n  function load_libs(css_urls, js_urls, callback) {\n    if (css_urls == null) css_urls = [];\n    if (js_urls == null) js_urls = [];\n\n    root._bokeh_onload_callbacks.push(callback);\n    if (root._bokeh_is_loading > 0) {\n      console.debug(\"Bokeh: BokehJS is being loaded, scheduling callback at\", now());\n      return null;\n    }\n    if (js_urls == null || js_urls.length === 0) {\n      run_callbacks();\n      return null;\n    }\n    console.debug(\"Bokeh: BokehJS not loaded, scheduling load and callback at\", now());\n    root._bokeh_is_loading = css_urls.length + js_urls.length;\n\n    function on_load() {\n      root._bokeh_is_loading--;\n      if (root._bokeh_is_loading === 0) {\n        console.debug(\"Bokeh: all BokehJS libraries/stylesheets loaded\");\n        run_callbacks()\n      }\n    }\n\n    function on_error(url) {\n      console.error(\"failed to load \" + url);\n    }\n\n    for (let i = 0; i < css_urls.length; i++) {\n      const url = css_urls[i];\n      const element = document.createElement(\"link\");\n      element.onload = on_load;\n      element.onerror = on_error.bind(null, url);\n      element.rel = \"stylesheet\";\n      element.type = \"text/css\";\n      element.href = url;\n      console.debug(\"Bokeh: injecting link tag for BokehJS stylesheet: \", url);\n      document.body.appendChild(element);\n    }\n\n    for (let i = 0; i < js_urls.length; i++) {\n      const url = js_urls[i];\n      const element = document.createElement('script');\n      element.onload = on_load;\n      element.onerror = on_error.bind(null, url);\n      element.async = false;\n      element.src = url;\n      console.debug(\"Bokeh: injecting script tag for BokehJS library: \", url);\n      document.head.appendChild(element);\n    }\n  };\n\n  function inject_raw_css(css) {\n    const element = document.createElement(\"style\");\n    element.appendChild(document.createTextNode(css));\n    document.body.appendChild(element);\n  }\n\n  const js_urls = [\"https://cdn.bokeh.org/bokeh/release/bokeh-3.4.3.min.js\", \"https://cdn.bokeh.org/bokeh/release/bokeh-gl-3.4.3.min.js\", \"https://cdn.bokeh.org/bokeh/release/bokeh-widgets-3.4.3.min.js\", \"https://cdn.bokeh.org/bokeh/release/bokeh-tables-3.4.3.min.js\", \"https://cdn.bokeh.org/bokeh/release/bokeh-mathjax-3.4.3.min.js\"];\n  const css_urls = [];\n\n  const inline_js = [    function(Bokeh) {\n      Bokeh.set_log_level(\"info\");\n    },\nfunction(Bokeh) {\n    }\n  ];\n\n  function run_inline_js() {\n    if (root.Bokeh !== undefined || force === true) {\n      try {\n            for (let i = 0; i < inline_js.length; i++) {\n      inline_js[i].call(root, root.Bokeh);\n    }\n\n      } catch (error) {display_loaded(error);throw error;\n      }if (force === true) {\n        display_loaded();\n      }} else if (Date.now() < root._bokeh_timeout) {\n      setTimeout(run_inline_js, 100);\n    } else if (!root._bokeh_failed_load) {\n      console.log(\"Bokeh: BokehJS failed to load within specified timeout.\");\n      root._bokeh_failed_load = true;\n    } else if (force !== true) {\n      const cell = $(document.getElementById(\"d7dd1536-2cdb-4345-9de5-2ab9866ed838\")).parents('.cell').data().cell;\n      cell.output_area.append_execute_result(NB_LOAD_WARNING)\n    }\n  }\n\n  if (root._bokeh_is_loading === 0) {\n    console.debug(\"Bokeh: BokehJS loaded, going straight to plotting\");\n    run_inline_js();\n  } else {\n    load_libs(css_urls, js_urls, function() {\n      console.debug(\"Bokeh: BokehJS plotting callback run at\", now());\n      run_inline_js();\n    });\n  }\n}(window));",
      "application/vnd.bokehjs_load.v0+json": ""
     },
     "metadata": {},
     "output_type": "display_data"
    }
   ],
   "source": [
    "import os\n",
    "import traceback\n",
    "from matplotlib import pyplot as plt\n",
    "import numpy as np\n",
    "import pandas as pd\n",
    "from sklearn.metrics import accuracy_score\n",
    "import torch\n",
    "import torch.nn as nn\n",
    "import torch.optim as optim\n",
    "from torch.utils.data import DataLoader, TensorDataset\n",
    "from assets.DataProvider import DataProvider\n",
    "from assets.FeaturesGenerator import FeaturesGenerator\n",
    "from assets.hw5.HybridStrategySMA_ML import HybridStrategySMA_ML\n",
    "from assets.hw5.Models import StockCNN, StockCNN_LSTM, StockGRU, StockLSTM\n",
    "from assets.hw5.SMABaselineGenerator import SMABaselineGenerator\n",
    "from backtesting import Backtest, Strategy"
   ]
  },
  {
   "cell_type": "markdown",
   "metadata": {},
   "source": [
    "## Helper Functions\n",
    "Define utility functions for sequence creation, model training, and testing"
   ]
  },
  {
   "cell_type": "code",
   "execution_count": 3,
   "metadata": {},
   "outputs": [],
   "source": [
    "def create_sequences(data_values, target_values, window_size):\n",
    "    \"\"\"Create sequences for time series data\"\"\"\n",
    "    X, y = [], []\n",
    "    for i in range(len(data_values) - window_size):\n",
    "        X.append(data_values[i:(i + window_size)])\n",
    "        y.append(target_values[i + window_size])\n",
    "    return np.array(X), np.array(y)"
   ]
  },
  {
   "cell_type": "code",
   "execution_count": 4,
   "metadata": {},
   "outputs": [],
   "source": [
    "def train_model(title, model, dataloader, num_epochs=10):\n",
    "    \"\"\"Train a PyTorch model\"\"\"\n",
    "    criterion = nn.CrossEntropyLoss()\n",
    "    optimizer = optim.Adam(model.parameters(), lr=0.001)\n",
    "\n",
    "    for epoch in range(num_epochs):\n",
    "        for inputs, labels in dataloader:\n",
    "            optimizer.zero_grad()\n",
    "            outputs = model(inputs)\n",
    "            loss = criterion(outputs, labels)\n",
    "            loss.backward()\n",
    "            optimizer.step()\n",
    "        print(f\"Epoch [{epoch+1}/{num_epochs}], Loss: {loss.item():.4f}\")\n",
    "\n",
    "    model.eval()\n",
    "    return model"
   ]
  },
  {
   "cell_type": "code",
   "execution_count": 5,
   "metadata": {},
   "outputs": [],
   "source": [
    "def test_model(title, model, dataloader):\n",
    "    \"\"\"Test a trained model and calculate accuracy\"\"\"\n",
    "    all_predictions = []\n",
    "    all_targets = []\n",
    "    with torch.no_grad():\n",
    "        for inputs, targets in dataloader:\n",
    "            outputs = model(inputs)\n",
    "            _, predicted = torch.max(outputs, 1)\n",
    "            all_predictions.extend(predicted.numpy())\n",
    "            all_targets.extend(targets.numpy())\n",
    "    \n",
    "    # Calculate accuracy\n",
    "    accuracy = accuracy_score(all_targets, all_predictions)\n",
    "    print(f\"{title} Accuracy: {accuracy:.4f}\")\n",
    "    return accuracy\n",
    "    # Plot actual vs predicted labels\n",
    "    plt.figure(figsize=(12, 6))\n",
    "    plt.plot(all_targets[-30:], label='Actual', color='blue', linestyle='--', alpha=0.7)\n",
    "    plt.plot(all_predictions[-30:], label='Predicted', color='red', alpha=0.7)\n",
    "    plt.title(title)\n",
    "    plt.xlabel(\"Time Step\")\n",
    "    plt.ylabel(\"Signal (0=Sell, 1=Hold, 2=Buy)\")\n",
    "    plt.legend()\n",
    "    plt.show()\n",
    "    \n",
    "    return accuracy"
   ]
  },
  {
   "cell_type": "markdown",
   "metadata": {},
   "source": [
    "## Main Trading Strategy Implementation"
   ]
  },
  {
   "cell_type": "code",
   "execution_count": 6,
   "metadata": {},
   "outputs": [],
   "source": [
    "ticker = 'BTC/USDT'\n",
    "timeframe = '1h'\n",
    "\n",
    "# Initial parameters\n",
    "strategy_best_params = {}\n",
    "threshold = 0.2"
   ]
  },
  {
   "cell_type": "code",
   "execution_count": 7,
   "metadata": {},
   "outputs": [
    {
     "name": "stdout",
     "output_type": "stream",
     "text": [
      " Удалено 1 записей с высокой дисперсией для BTC/USDT\n",
      " Удалено 19 аномальных цен BTC/USDT\n",
      " Удалено 1 записей с высокой дисперсией для BTC/USDT\n",
      " Удалено 19 аномальных цен BTC/USDT\n"
     ]
    }
   ],
   "source": [
    "# 1. Load the data\n",
    "data_provider = DataProvider(tickers=[ticker], skip_dashboard=True)\n",
    "if ticker not in data_provider.data:\n",
    "    if not data_provider.data_load():\n",
    "        data_provider.data_request()\n",
    "        data_provider.data_save()\n",
    "    data_provider.clean_data()\n",
    "data = data_provider.data[ticker]"
   ]
  },
  {
   "cell_type": "code",
   "execution_count": 8,
   "metadata": {},
   "outputs": [
    {
     "name": "stdout",
     "output_type": "stream",
     "text": [
      "Number of features generated: 62 (62 names)\n"
     ]
    }
   ],
   "source": [
    "# 2. Generate features\n",
    "features_generator = FeaturesGenerator()\n",
    "data_initial_ohlc = data.copy()\n",
    "feature_matrix, feature_names = features_generator.prepare_features(data_initial_ohlc)\n",
    "num_features = feature_matrix.shape[1]\n",
    "print(f\"Number of features generated: {num_features} ({len(feature_names)} names)\")"
   ]
  },
  {
   "cell_type": "code",
   "execution_count": 9,
   "metadata": {},
   "outputs": [
    {
     "name": "stdout",
     "output_type": "stream",
     "text": [
      "Running SMA strategy validation...\n",
      "Testing 4 parameter combinations...\n"
     ]
    },
    {
     "name": "stderr",
     "output_type": "stream",
     "text": [
      "4it [00:00, 11.69it/s]"
     ]
    },
    {
     "name": "stdout",
     "output_type": "stream",
     "text": [
      "\n",
      "Best parameters found:\n",
      "4.01: {'sma_short': 5, 'sma_long': 15, 'model': None}\n",
      "3.86: {'sma_short': 8, 'sma_long': 20, 'model': None}\n",
      "3.82: {'sma_short': 8, 'sma_long': 15, 'model': None}\n",
      "3.12: {'sma_short': 5, 'sma_long': 20, 'model': None}\n",
      "\n",
      "Best score: 4.01\n",
      "\n",
      "Best strategy performance:\n",
      "Return: 0.10%\n",
      "Trades count: 112\n",
      "Sharpe Ratio: 0.13\n",
      "Max Drawdown: -0.44%\n",
      "Win Rate: 38.39%\n"
     ]
    },
    {
     "name": "stderr",
     "output_type": "stream",
     "text": [
      "\n"
     ]
    }
   ],
   "source": [
    "# 3. Generate target using SMA strategy\n",
    "strategy_hw2 = SMABaselineGenerator(ticker, timeframe, data_provider)\n",
    "strategy_best_results, strategy_best_params, strategy_trades = strategy_hw2.evaluate_strategies()"
   ]
  },
  {
   "cell_type": "code",
   "execution_count": 10,
   "metadata": {},
   "outputs": [],
   "source": [
    "# 4. Prepare data for ML\n",
    "data_extended = feature_matrix.copy()\n",
    "if strategy_trades is None or strategy_trades.empty:\n",
    "    print(\"WARN: No trades from SMA strategy. PnL and ReturnPct will be zero for y_base generation.\")\n",
    "    data_extended['PnL'] = 0.0\n",
    "    data_extended['ReturnPct'] = 0.0\n",
    "else:\n",
    "    strategy_trades = strategy_trades.set_index('EntryTime')\n",
    "    data_extended = data_extended.merge(strategy_trades[['PnL', 'ReturnPct']], \n",
    "                                        left_index=True, right_index=True, how='left')\n",
    "    data_extended[['PnL', 'ReturnPct']] = data_extended[['PnL', 'ReturnPct']].fillna(value=0)\n",
    "\n",
    "trades_return_pct = data_extended['ReturnPct'].values\n",
    "y_base = [1 if x > threshold else 0 for x in trades_return_pct]"
   ]
  },
  {
   "cell_type": "code",
   "execution_count": 11,
   "metadata": {},
   "outputs": [
    {
     "name": "stdout",
     "output_type": "stream",
     "text": [
      "Sequence shapes - X: (2582, 30, 62), y: (2582,)\n"
     ]
    }
   ],
   "source": [
    "# 5. Create sequences for time series models\n",
    "window_size = 30\n",
    "X_np, y_np = create_sequences(feature_matrix.values, np.array(y_base), window_size)\n",
    "print(f\"Sequence shapes - X: {X_np.shape}, y: {y_np.shape}\")"
   ]
  },
  {
   "cell_type": "code",
   "execution_count": 12,
   "metadata": {},
   "outputs": [],
   "source": [
    "# 6. Prepare PyTorch datasets\n",
    "X = torch.tensor(X_np, dtype=torch.float32)\n",
    "y = torch.tensor(y_np, dtype=torch.long)\n",
    "dataset = TensorDataset(X, y)\n",
    "dataloader = DataLoader(dataset, batch_size=32, shuffle=True)"
   ]
  },
  {
   "cell_type": "code",
   "execution_count": 13,
   "metadata": {},
   "outputs": [
    {
     "name": "stdout",
     "output_type": "stream",
     "text": [
      "\n",
      "Training CNN...\n",
      "Epoch [1/10], Loss: 0.1426\n",
      "Epoch [2/10], Loss: 0.3085\n",
      "Epoch [3/10], Loss: 0.1752\n",
      "Epoch [4/10], Loss: 0.2035\n",
      "Epoch [5/10], Loss: 0.2109\n",
      "Epoch [6/10], Loss: 0.2153\n",
      "Epoch [7/10], Loss: 0.1220\n",
      "Epoch [8/10], Loss: 0.0602\n",
      "Epoch [9/10], Loss: 0.1075\n",
      "Epoch [10/10], Loss: 0.1630\n",
      "CNN Accuracy: 0.9965\n",
      "\n",
      "Training LSTM...\n",
      "Epoch [1/10], Loss: 0.0031\n",
      "Epoch [2/10], Loss: 0.0039\n",
      "Epoch [3/10], Loss: 0.0045\n",
      "Epoch [4/10], Loss: 0.0050\n",
      "Epoch [5/10], Loss: 0.0038\n",
      "Epoch [6/10], Loss: 0.0023\n",
      "Epoch [7/10], Loss: 0.0023\n",
      "Epoch [8/10], Loss: 0.0048\n",
      "Epoch [9/10], Loss: 0.0028\n",
      "Epoch [10/10], Loss: 0.0042\n",
      "LSTM Accuracy: 0.9965\n",
      "\n",
      "Training GRU...\n",
      "Epoch [1/10], Loss: 0.0036\n",
      "Epoch [2/10], Loss: 0.0041\n",
      "Epoch [3/10], Loss: 0.0031\n",
      "Epoch [4/10], Loss: 0.0020\n",
      "Epoch [5/10], Loss: 0.0052\n",
      "Epoch [6/10], Loss: 0.0062\n",
      "Epoch [7/10], Loss: 0.0087\n",
      "Epoch [8/10], Loss: 0.0023\n",
      "Epoch [9/10], Loss: 0.0051\n",
      "Epoch [10/10], Loss: 0.0024\n",
      "GRU Accuracy: 0.9965\n",
      "\n",
      "Training CNN_LSTM...\n",
      "Epoch [1/10], Loss: 0.1685\n",
      "Epoch [2/10], Loss: 0.0265\n",
      "Epoch [3/10], Loss: 0.0112\n",
      "Epoch [4/10], Loss: 0.0073\n",
      "Epoch [5/10], Loss: 0.0065\n",
      "Epoch [6/10], Loss: 0.0024\n",
      "Epoch [7/10], Loss: 0.0047\n",
      "Epoch [8/10], Loss: 0.0035\n",
      "Epoch [9/10], Loss: 0.0028\n",
      "Epoch [10/10], Loss: 0.2294\n",
      "CNN_LSTM Accuracy: 0.9965\n"
     ]
    }
   ],
   "source": [
    "# 7. Initialize and train models\n",
    "models = {\n",
    "    'CNN': {'model': StockCNN(input_channels=num_features, window_size=window_size)},\n",
    "    'LSTM': {'model': StockLSTM(input_size=num_features)},\n",
    "    'GRU': {'model': StockGRU(input_size=num_features)},\n",
    "    'CNN_LSTM': {'model': StockCNN_LSTM(input_channels=num_features)}\n",
    "}\n",
    "\n",
    "# Train and test each model\n",
    "for model_key, model_dict in models.items():\n",
    "    print(f\"\\nTraining {model_key}...\")\n",
    "    models[model_key]['model_trained'] = train_model(model_key, model_dict['model'], dataloader)\n",
    "    models[model_key]['accuracy'] = test_model(model_key, model_dict['model_trained'], dataloader)"
   ]
  },
  {
   "cell_type": "code",
   "execution_count": 14,
   "metadata": {},
   "outputs": [
    {
     "name": "stdout",
     "output_type": "stream",
     "text": [
      "\n",
      "\n",
      "\n",
      "Preparing backtest for model: CNN...\n",
      "Running backtest for CNN using SMA logic (model not integrated yet).\n"
     ]
    },
    {
     "name": "stderr",
     "output_type": "stream",
     "text": [
      "INFO:bokeh.io.state:Session output file 'backtest_plots\\backtest_plot_CNN.html' already exists, will be overwritten.\n"
     ]
    },
    {
     "name": "stdout",
     "output_type": "stream",
     "text": [
      "--- Backtest Results for CNN driven strategy ---\n",
      "Start                     2017-08-27 00:00:00\n",
      "End                       2025-05-07 00:00:00\n",
      "Duration                   2810 days 00:00:00\n",
      "Exposure Time [%]                    69.61935\n",
      "Equity Final [$]               10049013.29762\n",
      "Equity Peak [$]                 10070818.7374\n",
      "Commissions [$]                   20603.31856\n",
      "Return [%]                            0.49013\n",
      "Buy & Hold Return [%]              2249.19632\n",
      "Return (Ann.) [%]                     0.06351\n",
      "Volatility (Ann.) [%]                 0.18088\n",
      "CAGR [%]                              0.06353\n",
      "Sharpe Ratio                           0.3511\n",
      "Sortino Ratio                         0.51577\n",
      "Calmar Ratio                          0.14505\n",
      "Alpha [%]                            -2.71615\n",
      "Beta                                  0.00143\n",
      "Max. Drawdown [%]                    -0.43781\n",
      "Avg. Drawdown [%]                    -0.05837\n",
      "Max. Drawdown Duration     1097 days 00:00:00\n",
      "Avg. Drawdown Duration       83 days 00:00:00\n",
      "# Trades                                  166\n",
      "Win Rate [%]                         37.95181\n",
      "Best Trade [%]                       88.13142\n",
      "Worst Trade [%]                     -17.52626\n",
      "Avg. Trade [%]                        1.81232\n",
      "Max. Trade Duration          74 days 00:00:00\n",
      "Avg. Trade Duration          11 days 00:00:00\n",
      "Profit Factor                          1.9502\n",
      "Expectancy [%]                        2.90872\n",
      "SQN                                   0.98592\n",
      "Kelly Criterion                       0.09883\n",
      "_strategy                 HybridStrategySM...\n",
      "_equity_curve                             ...\n",
      "_trades                        Size  Entry...\n",
      "dtype: object\n"
     ]
    },
    {
     "name": "stderr",
     "output_type": "stream",
     "text": [
      "g:\\Work\\Repos\\otus_homework\\backtesting\\_plotting.py:701: UserWarning:\n",
      "\n",
      "found multiple competing values for 'toolbar.active_drag' property; using the latest value\n",
      "\n",
      "g:\\Work\\Repos\\otus_homework\\backtesting\\_plotting.py:701: UserWarning:\n",
      "\n",
      "found multiple competing values for 'toolbar.active_scroll' property; using the latest value\n",
      "\n"
     ]
    },
    {
     "name": "stdout",
     "output_type": "stream",
     "text": [
      "Backtest plot for CNN saved to backtest_plots\\backtest_plot_CNN.html\n",
      "\n",
      "\n",
      "\n",
      "Preparing backtest for model: LSTM...\n",
      "Running backtest for LSTM using SMA logic (model not integrated yet).\n"
     ]
    },
    {
     "name": "stderr",
     "output_type": "stream",
     "text": [
      "INFO:bokeh.io.state:Session output file 'backtest_plots\\backtest_plot_LSTM.html' already exists, will be overwritten.\n"
     ]
    },
    {
     "name": "stdout",
     "output_type": "stream",
     "text": [
      "--- Backtest Results for LSTM driven strategy ---\n",
      "Start                     2017-08-27 00:00:00\n",
      "End                       2025-05-07 00:00:00\n",
      "Duration                   2810 days 00:00:00\n",
      "Exposure Time [%]                    69.61935\n",
      "Equity Final [$]               10049013.29762\n",
      "Equity Peak [$]                 10070818.7374\n",
      "Commissions [$]                   20603.31856\n",
      "Return [%]                            0.49013\n",
      "Buy & Hold Return [%]              2249.19632\n",
      "Return (Ann.) [%]                     0.06351\n",
      "Volatility (Ann.) [%]                 0.18088\n",
      "CAGR [%]                              0.06353\n",
      "Sharpe Ratio                           0.3511\n",
      "Sortino Ratio                         0.51577\n",
      "Calmar Ratio                          0.14505\n",
      "Alpha [%]                            -2.71615\n",
      "Beta                                  0.00143\n",
      "Max. Drawdown [%]                    -0.43781\n",
      "Avg. Drawdown [%]                    -0.05837\n",
      "Max. Drawdown Duration     1097 days 00:00:00\n",
      "Avg. Drawdown Duration       83 days 00:00:00\n",
      "# Trades                                  166\n",
      "Win Rate [%]                         37.95181\n",
      "Best Trade [%]                       88.13142\n",
      "Worst Trade [%]                     -17.52626\n",
      "Avg. Trade [%]                        1.81232\n",
      "Max. Trade Duration          74 days 00:00:00\n",
      "Avg. Trade Duration          11 days 00:00:00\n",
      "Profit Factor                          1.9502\n",
      "Expectancy [%]                        2.90872\n",
      "SQN                                   0.98592\n",
      "Kelly Criterion                       0.09883\n",
      "_strategy                 HybridStrategySM...\n",
      "_equity_curve                             ...\n",
      "_trades                        Size  Entry...\n",
      "dtype: object\n"
     ]
    },
    {
     "name": "stderr",
     "output_type": "stream",
     "text": [
      "g:\\Work\\Repos\\otus_homework\\backtesting\\_plotting.py:701: UserWarning:\n",
      "\n",
      "found multiple competing values for 'toolbar.active_drag' property; using the latest value\n",
      "\n",
      "g:\\Work\\Repos\\otus_homework\\backtesting\\_plotting.py:701: UserWarning:\n",
      "\n",
      "found multiple competing values for 'toolbar.active_scroll' property; using the latest value\n",
      "\n"
     ]
    },
    {
     "name": "stdout",
     "output_type": "stream",
     "text": [
      "Backtest plot for LSTM saved to backtest_plots\\backtest_plot_LSTM.html\n",
      "\n",
      "\n",
      "\n",
      "Preparing backtest for model: GRU...\n",
      "Running backtest for GRU using SMA logic (model not integrated yet).\n"
     ]
    },
    {
     "name": "stderr",
     "output_type": "stream",
     "text": [
      "INFO:bokeh.io.state:Session output file 'backtest_plots\\backtest_plot_GRU.html' already exists, will be overwritten.\n"
     ]
    },
    {
     "name": "stdout",
     "output_type": "stream",
     "text": [
      "--- Backtest Results for GRU driven strategy ---\n",
      "Start                     2017-08-27 00:00:00\n",
      "End                       2025-05-07 00:00:00\n",
      "Duration                   2810 days 00:00:00\n",
      "Exposure Time [%]                    69.61935\n",
      "Equity Final [$]               10049013.29762\n",
      "Equity Peak [$]                 10070818.7374\n",
      "Commissions [$]                   20603.31856\n",
      "Return [%]                            0.49013\n",
      "Buy & Hold Return [%]              2249.19632\n",
      "Return (Ann.) [%]                     0.06351\n",
      "Volatility (Ann.) [%]                 0.18088\n",
      "CAGR [%]                              0.06353\n",
      "Sharpe Ratio                           0.3511\n",
      "Sortino Ratio                         0.51577\n",
      "Calmar Ratio                          0.14505\n",
      "Alpha [%]                            -2.71615\n",
      "Beta                                  0.00143\n",
      "Max. Drawdown [%]                    -0.43781\n",
      "Avg. Drawdown [%]                    -0.05837\n",
      "Max. Drawdown Duration     1097 days 00:00:00\n",
      "Avg. Drawdown Duration       83 days 00:00:00\n",
      "# Trades                                  166\n",
      "Win Rate [%]                         37.95181\n",
      "Best Trade [%]                       88.13142\n",
      "Worst Trade [%]                     -17.52626\n",
      "Avg. Trade [%]                        1.81232\n",
      "Max. Trade Duration          74 days 00:00:00\n",
      "Avg. Trade Duration          11 days 00:00:00\n",
      "Profit Factor                          1.9502\n",
      "Expectancy [%]                        2.90872\n",
      "SQN                                   0.98592\n",
      "Kelly Criterion                       0.09883\n",
      "_strategy                 HybridStrategySM...\n",
      "_equity_curve                             ...\n",
      "_trades                        Size  Entry...\n",
      "dtype: object\n"
     ]
    },
    {
     "name": "stderr",
     "output_type": "stream",
     "text": [
      "g:\\Work\\Repos\\otus_homework\\backtesting\\_plotting.py:701: UserWarning:\n",
      "\n",
      "found multiple competing values for 'toolbar.active_drag' property; using the latest value\n",
      "\n",
      "g:\\Work\\Repos\\otus_homework\\backtesting\\_plotting.py:701: UserWarning:\n",
      "\n",
      "found multiple competing values for 'toolbar.active_scroll' property; using the latest value\n",
      "\n"
     ]
    },
    {
     "name": "stdout",
     "output_type": "stream",
     "text": [
      "Backtest plot for GRU saved to backtest_plots\\backtest_plot_GRU.html\n",
      "\n",
      "\n",
      "\n",
      "Preparing backtest for model: CNN_LSTM...\n",
      "Running backtest for CNN_LSTM using SMA logic (model not integrated yet).\n"
     ]
    },
    {
     "name": "stderr",
     "output_type": "stream",
     "text": [
      "INFO:bokeh.io.state:Session output file 'backtest_plots\\backtest_plot_CNN_LSTM.html' already exists, will be overwritten.\n"
     ]
    },
    {
     "name": "stdout",
     "output_type": "stream",
     "text": [
      "--- Backtest Results for CNN_LSTM driven strategy ---\n",
      "Start                     2017-08-27 00:00:00\n",
      "End                       2025-05-07 00:00:00\n",
      "Duration                   2810 days 00:00:00\n",
      "Exposure Time [%]                    69.61935\n",
      "Equity Final [$]               10049013.29762\n",
      "Equity Peak [$]                 10070818.7374\n",
      "Commissions [$]                   20603.31856\n",
      "Return [%]                            0.49013\n",
      "Buy & Hold Return [%]              2249.19632\n",
      "Return (Ann.) [%]                     0.06351\n",
      "Volatility (Ann.) [%]                 0.18088\n",
      "CAGR [%]                              0.06353\n",
      "Sharpe Ratio                           0.3511\n",
      "Sortino Ratio                         0.51577\n",
      "Calmar Ratio                          0.14505\n",
      "Alpha [%]                            -2.71615\n",
      "Beta                                  0.00143\n",
      "Max. Drawdown [%]                    -0.43781\n",
      "Avg. Drawdown [%]                    -0.05837\n",
      "Max. Drawdown Duration     1097 days 00:00:00\n",
      "Avg. Drawdown Duration       83 days 00:00:00\n",
      "# Trades                                  166\n",
      "Win Rate [%]                         37.95181\n",
      "Best Trade [%]                       88.13142\n",
      "Worst Trade [%]                     -17.52626\n",
      "Avg. Trade [%]                        1.81232\n",
      "Max. Trade Duration          74 days 00:00:00\n",
      "Avg. Trade Duration          11 days 00:00:00\n",
      "Profit Factor                          1.9502\n",
      "Expectancy [%]                        2.90872\n",
      "SQN                                   0.98592\n",
      "Kelly Criterion                       0.09883\n",
      "_strategy                 HybridStrategySM...\n",
      "_equity_curve                             ...\n",
      "_trades                        Size  Entry...\n",
      "dtype: object\n",
      "Backtest plot for CNN_LSTM saved to backtest_plots\\backtest_plot_CNN_LSTM.html\n"
     ]
    },
    {
     "name": "stderr",
     "output_type": "stream",
     "text": [
      "g:\\Work\\Repos\\otus_homework\\backtesting\\_plotting.py:701: UserWarning:\n",
      "\n",
      "found multiple competing values for 'toolbar.active_drag' property; using the latest value\n",
      "\n",
      "g:\\Work\\Repos\\otus_homework\\backtesting\\_plotting.py:701: UserWarning:\n",
      "\n",
      "found multiple competing values for 'toolbar.active_scroll' property; using the latest value\n",
      "\n"
     ]
    }
   ],
   "source": [
    "# 8. Backtest hybrid strategies\n",
    "all_backtest_results = {}\n",
    "for model_key, model_dict in models.items():\n",
    "    print(f\"\\n\\n\\nPreparing backtest for model: {model_key}...\")\n",
    "    print(f\"Running backtest for {model_key} using SMA logic (model not integrated yet).\")\n",
    "    bt = Backtest(data.copy(),  # Pass data.copy()\n",
    "                    HybridStrategySMA_ML, \n",
    "                    cash=10000000, \n",
    "                    commission=.002)\n",
    "    try:\n",
    "        # Pass sma_short and sma_long to bt.run()\n",
    "        stats = bt.run(\n",
    "            sma_short=strategy_best_params['sma_short'],\n",
    "            sma_long=strategy_best_params['sma_long'],\n",
    "            model=models[model_key]['model_trained']\n",
    "        )\n",
    "        print(f\"--- Backtest Results for {model_key} driven strategy ---\")\n",
    "        print(stats)\n",
    "        all_backtest_results[model_key] = {'stats': stats}\n",
    "        plot_path = \"backtest_plots\"\n",
    "        os.makedirs(plot_path, exist_ok=True)\n",
    "        plot_filename = os.path.join(plot_path, f\"backtest_plot_{model_key}.html\")\n",
    "        try:\n",
    "            bt.plot(filename=plot_filename, open_browser=False)\n",
    "            all_backtest_results[model_key]['plot_file'] = plot_filename\n",
    "            print(f\"Backtest plot for {model_key} saved to {plot_filename}\")\n",
    "        except Exception as e:\n",
    "            print(f\"ERROR: Could not generate plot for {model_key}: {e}\")\n",
    "            all_backtest_results[model_key]['plot_file'] = None\n",
    "            \n",
    "    except Exception as e:\n",
    "        print(f\"ERROR during backtest for {model_key}: {e}\")\n",
    "        print(\"This might be due to HW2Strategy_SMA not being fully adapted for model-based trading,\")\n",
    "        print(\"or issues with data slicing/feature access within the strategy's next() method.\")\n",
    "        traceback.print_exc() # Print detailed traceback"
   ]
  },
  {
   "cell_type": "code",
   "execution_count": 15,
   "metadata": {},
   "outputs": [
    {
     "name": "stdout",
     "output_type": "stream",
     "text": [
      "\n",
      "\n",
      "--- Summary of All Backtest Results ---\n",
      "\n",
      "\n",
      "--- Original strategy stats ---\n",
      "Start                     2017-08-27 00:00:00\n",
      "End                       2023-01-14 00:00:00\n",
      "Duration                   1966 days 00:00:00\n",
      "Exposure Time [%]                    66.19217\n",
      "Equity Final [$]               10010177.57918\n",
      "Equity Peak [$]                10049764.30264\n",
      "Commissions [$]                    8977.05936\n",
      "Return [%]                            0.10178\n",
      "Buy & Hold Return [%]                407.3376\n",
      "Return (Ann.) [%]                     0.01888\n",
      "Volatility (Ann.) [%]                 0.14521\n",
      "CAGR [%]                              0.01889\n",
      "Sharpe Ratio                             0.13\n",
      "Sortino Ratio                         0.18305\n",
      "Calmar Ratio                          0.04312\n",
      "Alpha [%]                            -0.31913\n",
      "Beta                                  0.00103\n",
      "Max. Drawdown [%]                    -0.43781\n",
      "Avg. Drawdown [%]                    -0.04807\n",
      "Max. Drawdown Duration     1097 days 00:00:00\n",
      "Avg. Drawdown Duration       83 days 00:00:00\n",
      "# Trades                                  112\n",
      "Win Rate [%]                         38.39286\n",
      "Best Trade [%]                       88.13142\n",
      "Worst Trade [%]                     -17.52626\n",
      "Avg. Trade [%]                        1.70442\n",
      "Max. Trade Duration          74 days 00:00:00\n",
      "Avg. Trade Duration          11 days 00:00:00\n",
      "Profit Factor                         1.85965\n",
      "Expectancy [%]                         2.9843\n",
      "SQN                                   0.41309\n",
      "Kelly Criterion                       0.05408\n",
      "_strategy                 HybridStrategySM...\n",
      "_equity_curve                             ...\n",
      "_trades                        Size  Entry...\n",
      "Trades                                    112\n",
      "dtype: object\n",
      "\n",
      "--- Results for CNN ---\n",
      "Start                     2017-08-27 00:00:00\n",
      "End                       2025-05-07 00:00:00\n",
      "Duration                   2810 days 00:00:00\n",
      "Exposure Time [%]                    69.61935\n",
      "Equity Final [$]               10049013.29762\n",
      "Equity Peak [$]                 10070818.7374\n",
      "Commissions [$]                   20603.31856\n",
      "Return [%]                            0.49013\n",
      "Buy & Hold Return [%]              2249.19632\n",
      "Return (Ann.) [%]                     0.06351\n",
      "Volatility (Ann.) [%]                 0.18088\n",
      "CAGR [%]                              0.06353\n",
      "Sharpe Ratio                           0.3511\n",
      "Sortino Ratio                         0.51577\n",
      "Calmar Ratio                          0.14505\n",
      "Alpha [%]                            -2.71615\n",
      "Beta                                  0.00143\n",
      "Max. Drawdown [%]                    -0.43781\n",
      "Avg. Drawdown [%]                    -0.05837\n",
      "Max. Drawdown Duration     1097 days 00:00:00\n",
      "Avg. Drawdown Duration       83 days 00:00:00\n",
      "# Trades                                  166\n",
      "Win Rate [%]                         37.95181\n",
      "Best Trade [%]                       88.13142\n",
      "Worst Trade [%]                     -17.52626\n",
      "Avg. Trade [%]                        1.81232\n",
      "Max. Trade Duration          74 days 00:00:00\n",
      "Avg. Trade Duration          11 days 00:00:00\n",
      "Profit Factor                          1.9502\n",
      "Expectancy [%]                        2.90872\n",
      "SQN                                   0.98592\n",
      "Kelly Criterion                       0.09883\n",
      "_strategy                 HybridStrategySM...\n",
      "_equity_curve                             ...\n",
      "_trades                        Size  Entry...\n",
      "dtype: object\n",
      "Plot saved to: backtest_plots\\backtest_plot_CNN.html\n",
      "\n",
      "--- Results for LSTM ---\n",
      "Start                     2017-08-27 00:00:00\n",
      "End                       2025-05-07 00:00:00\n",
      "Duration                   2810 days 00:00:00\n",
      "Exposure Time [%]                    69.61935\n",
      "Equity Final [$]               10049013.29762\n",
      "Equity Peak [$]                 10070818.7374\n",
      "Commissions [$]                   20603.31856\n",
      "Return [%]                            0.49013\n",
      "Buy & Hold Return [%]              2249.19632\n",
      "Return (Ann.) [%]                     0.06351\n",
      "Volatility (Ann.) [%]                 0.18088\n",
      "CAGR [%]                              0.06353\n",
      "Sharpe Ratio                           0.3511\n",
      "Sortino Ratio                         0.51577\n",
      "Calmar Ratio                          0.14505\n",
      "Alpha [%]                            -2.71615\n",
      "Beta                                  0.00143\n",
      "Max. Drawdown [%]                    -0.43781\n",
      "Avg. Drawdown [%]                    -0.05837\n",
      "Max. Drawdown Duration     1097 days 00:00:00\n",
      "Avg. Drawdown Duration       83 days 00:00:00\n",
      "# Trades                                  166\n",
      "Win Rate [%]                         37.95181\n",
      "Best Trade [%]                       88.13142\n",
      "Worst Trade [%]                     -17.52626\n",
      "Avg. Trade [%]                        1.81232\n",
      "Max. Trade Duration          74 days 00:00:00\n",
      "Avg. Trade Duration          11 days 00:00:00\n",
      "Profit Factor                          1.9502\n",
      "Expectancy [%]                        2.90872\n",
      "SQN                                   0.98592\n",
      "Kelly Criterion                       0.09883\n",
      "_strategy                 HybridStrategySM...\n",
      "_equity_curve                             ...\n",
      "_trades                        Size  Entry...\n",
      "dtype: object\n",
      "Plot saved to: backtest_plots\\backtest_plot_LSTM.html\n",
      "\n",
      "--- Results for GRU ---\n",
      "Start                     2017-08-27 00:00:00\n",
      "End                       2025-05-07 00:00:00\n",
      "Duration                   2810 days 00:00:00\n",
      "Exposure Time [%]                    69.61935\n",
      "Equity Final [$]               10049013.29762\n",
      "Equity Peak [$]                 10070818.7374\n",
      "Commissions [$]                   20603.31856\n",
      "Return [%]                            0.49013\n",
      "Buy & Hold Return [%]              2249.19632\n",
      "Return (Ann.) [%]                     0.06351\n",
      "Volatility (Ann.) [%]                 0.18088\n",
      "CAGR [%]                              0.06353\n",
      "Sharpe Ratio                           0.3511\n",
      "Sortino Ratio                         0.51577\n",
      "Calmar Ratio                          0.14505\n",
      "Alpha [%]                            -2.71615\n",
      "Beta                                  0.00143\n",
      "Max. Drawdown [%]                    -0.43781\n",
      "Avg. Drawdown [%]                    -0.05837\n",
      "Max. Drawdown Duration     1097 days 00:00:00\n",
      "Avg. Drawdown Duration       83 days 00:00:00\n",
      "# Trades                                  166\n",
      "Win Rate [%]                         37.95181\n",
      "Best Trade [%]                       88.13142\n",
      "Worst Trade [%]                     -17.52626\n",
      "Avg. Trade [%]                        1.81232\n",
      "Max. Trade Duration          74 days 00:00:00\n",
      "Avg. Trade Duration          11 days 00:00:00\n",
      "Profit Factor                          1.9502\n",
      "Expectancy [%]                        2.90872\n",
      "SQN                                   0.98592\n",
      "Kelly Criterion                       0.09883\n",
      "_strategy                 HybridStrategySM...\n",
      "_equity_curve                             ...\n",
      "_trades                        Size  Entry...\n",
      "dtype: object\n",
      "Plot saved to: backtest_plots\\backtest_plot_GRU.html\n",
      "\n",
      "--- Results for CNN_LSTM ---\n",
      "Start                     2017-08-27 00:00:00\n",
      "End                       2025-05-07 00:00:00\n",
      "Duration                   2810 days 00:00:00\n",
      "Exposure Time [%]                    69.61935\n",
      "Equity Final [$]               10049013.29762\n",
      "Equity Peak [$]                 10070818.7374\n",
      "Commissions [$]                   20603.31856\n",
      "Return [%]                            0.49013\n",
      "Buy & Hold Return [%]              2249.19632\n",
      "Return (Ann.) [%]                     0.06351\n",
      "Volatility (Ann.) [%]                 0.18088\n",
      "CAGR [%]                              0.06353\n",
      "Sharpe Ratio                           0.3511\n",
      "Sortino Ratio                         0.51577\n",
      "Calmar Ratio                          0.14505\n",
      "Alpha [%]                            -2.71615\n",
      "Beta                                  0.00143\n",
      "Max. Drawdown [%]                    -0.43781\n",
      "Avg. Drawdown [%]                    -0.05837\n",
      "Max. Drawdown Duration     1097 days 00:00:00\n",
      "Avg. Drawdown Duration       83 days 00:00:00\n",
      "# Trades                                  166\n",
      "Win Rate [%]                         37.95181\n",
      "Best Trade [%]                       88.13142\n",
      "Worst Trade [%]                     -17.52626\n",
      "Avg. Trade [%]                        1.81232\n",
      "Max. Trade Duration          74 days 00:00:00\n",
      "Avg. Trade Duration          11 days 00:00:00\n",
      "Profit Factor                          1.9502\n",
      "Expectancy [%]                        2.90872\n",
      "SQN                                   0.98592\n",
      "Kelly Criterion                       0.09883\n",
      "_strategy                 HybridStrategySM...\n",
      "_equity_curve                             ...\n",
      "_trades                        Size  Entry...\n",
      "dtype: object\n",
      "Plot saved to: backtest_plots\\backtest_plot_CNN_LSTM.html\n"
     ]
    }
   ],
   "source": [
    "# Print summary\n",
    "print(\"\\n\\n--- Summary of All Backtest Results ---\")\n",
    "\n",
    "print(\"\\n\\n--- Original strategy stats ---\")\n",
    "print(strategy_best_results)\n",
    "\n",
    "for model_key, strategy_results in all_backtest_results.items():\n",
    "    print(f\"\\n--- Results for {model_key} ---\")\n",
    "    print(strategy_results['stats'])\n",
    "    if 'plot_file' in strategy_results and strategy_results['plot_file']:\n",
    "        print(f\"Plot saved to: {strategy_results['plot_file']}\")\n",
    "    else:\n",
    "        print(\"Plot generation failed or was not attempted.\")"
   ]
  },
  {
   "cell_type": "code",
   "execution_count": 16,
   "metadata": {},
   "outputs": [
    {
     "name": "stderr",
     "output_type": "stream",
     "text": [
      "C:\\Users\\Owner\\AppData\\Local\\Temp\\ipykernel_25340\\752815044.py:36: UserWarning:\n",
      "\n",
      "set_ticklabels() should only be used with a fixed number of ticks, i.e. after set_ticks() or using a FixedLocator.\n",
      "\n",
      "C:\\Users\\Owner\\AppData\\Local\\Temp\\ipykernel_25340\\752815044.py:36: UserWarning:\n",
      "\n",
      "set_ticklabels() should only be used with a fixed number of ticks, i.e. after set_ticks() or using a FixedLocator.\n",
      "\n",
      "C:\\Users\\Owner\\AppData\\Local\\Temp\\ipykernel_25340\\752815044.py:36: UserWarning:\n",
      "\n",
      "set_ticklabels() should only be used with a fixed number of ticks, i.e. after set_ticks() or using a FixedLocator.\n",
      "\n",
      "C:\\Users\\Owner\\AppData\\Local\\Temp\\ipykernel_25340\\752815044.py:36: UserWarning:\n",
      "\n",
      "set_ticklabels() should only be used with a fixed number of ticks, i.e. after set_ticks() or using a FixedLocator.\n",
      "\n"
     ]
    },
    {
     "data": {
      "image/png": "[encoded data removed]",
      "text/plain": [
       "<Figure size 1500x1200 with 4 Axes>"
      ]
     },
     "metadata": {},
     "output_type": "display_data"
    },
    {
     "data": {
      "text/html": [
       "<div>\n",
       "<style scoped>\n",
       "    .dataframe tbody tr th:only-of-type {\n",
       "        vertical-align: middle;\n",
       "    }\n",
       "\n",
       "    .dataframe tbody tr th {\n",
       "        vertical-align: top;\n",
       "    }\n",
       "\n",
       "    .dataframe thead th {\n",
       "        text-align: right;\n",
       "    }\n",
       "</style>\n",
       "<table border=\"1\" class=\"dataframe\">\n",
       "  <thead>\n",
       "    <tr style=\"text-align: right;\">\n",
       "      <th></th>\n",
       "      <th>Return [%]</th>\n",
       "      <th>Win Rate [%]</th>\n",
       "      <th>Sharpe Ratio</th>\n",
       "      <th>Max Drawdown [%]</th>\n",
       "    </tr>\n",
       "  </thead>\n",
       "  <tbody>\n",
       "    <tr>\n",
       "      <th>SMA_Base</th>\n",
       "      <td>0.101776</td>\n",
       "      <td>38.392857</td>\n",
       "      <td>0.130003</td>\n",
       "      <td>-0.437814</td>\n",
       "    </tr>\n",
       "    <tr>\n",
       "      <th>CNN</th>\n",
       "      <td>0.490133</td>\n",
       "      <td>37.951807</td>\n",
       "      <td>0.351105</td>\n",
       "      <td>-0.437814</td>\n",
       "    </tr>\n",
       "    <tr>\n",
       "      <th>LSTM</th>\n",
       "      <td>0.490133</td>\n",
       "      <td>37.951807</td>\n",
       "      <td>0.351105</td>\n",
       "      <td>-0.437814</td>\n",
       "    </tr>\n",
       "    <tr>\n",
       "      <th>GRU</th>\n",
       "      <td>0.490133</td>\n",
       "      <td>37.951807</td>\n",
       "      <td>0.351105</td>\n",
       "      <td>-0.437814</td>\n",
       "    </tr>\n",
       "    <tr>\n",
       "      <th>CNN_LSTM</th>\n",
       "      <td>0.490133</td>\n",
       "      <td>37.951807</td>\n",
       "      <td>0.351105</td>\n",
       "      <td>-0.437814</td>\n",
       "    </tr>\n",
       "  </tbody>\n",
       "</table>\n",
       "</div>"
      ],
      "text/plain": [
       "          Return [%]  Win Rate [%]  Sharpe Ratio  Max Drawdown [%]\n",
       "SMA_Base    0.101776     38.392857      0.130003         -0.437814\n",
       "CNN         0.490133     37.951807      0.351105         -0.437814\n",
       "LSTM        0.490133     37.951807      0.351105         -0.437814\n",
       "GRU         0.490133     37.951807      0.351105         -0.437814\n",
       "CNN_LSTM    0.490133     37.951807      0.351105         -0.437814"
      ]
     },
     "metadata": {},
     "output_type": "display_data"
    }
   ],
   "source": [
    "def plot_strategy_comparisons(strategy_best_results, all_backtest_results):\n",
    "    # Extract key metrics for comparison\n",
    "    metrics = {\n",
    "        'Return [%]': [],\n",
    "        'Win Rate [%]': [],\n",
    "        'Sharpe Ratio': [],\n",
    "        'Max Drawdown [%]': []\n",
    "    }\n",
    "    strategy_names = ['SMA_Base'] + list(all_backtest_results.keys())\n",
    "    \n",
    "    # Add baseline SMA results\n",
    "    metrics['Return [%]'].append(strategy_best_results['Return [%]'])\n",
    "    metrics['Win Rate [%]'].append(strategy_best_results['Win Rate [%]'])\n",
    "    metrics['Sharpe Ratio'].append(strategy_best_results['Sharpe Ratio'])\n",
    "    metrics['Max Drawdown [%]'].append(strategy_best_results['Max. Drawdown [%]'])\n",
    "    \n",
    "    # Add hybrid strategy results\n",
    "    for model_key in all_backtest_results.keys():\n",
    "        stats = all_backtest_results[model_key]['stats']\n",
    "        metrics['Return [%]'].append(stats['Return [%]'])\n",
    "        metrics['Win Rate [%]'].append(stats['Win Rate [%]'])\n",
    "        metrics['Sharpe Ratio'].append(stats['Sharpe Ratio'])\n",
    "        metrics['Max Drawdown [%]'].append(stats['Max. Drawdown [%]'])\n",
    "    \n",
    "    # Create subplots for each metric\n",
    "    fig, axes = plt.subplots(2, 2, figsize=(15, 12))\n",
    "    fig.suptitle('Strategy Performance Comparison', fontsize=16)\n",
    "    \n",
    "    for (metric, values), ax in zip(metrics.items(), axes.flat):\n",
    "        colors = ['blue'] + ['green' if v > values[0] else 'red' for v in values[1:]]\n",
    "        if metric in ['Max Drawdown [%]']:  # Inverse colors for metrics where lower is better\n",
    "            colors = ['blue'] + ['green' if v < values[0] else 'red' for v in values[1:]]\n",
    "            \n",
    "        bars = ax.bar(strategy_names, values, color=colors)\n",
    "        ax.set_title(metric)\n",
    "        ax.set_xticklabels(strategy_names, rotation=45)\n",
    "        \n",
    "        # Add value labels on top of each bar\n",
    "        for bar in bars:\n",
    "            height = bar.get_height()\n",
    "            ax.text(bar.get_x() + bar.get_width()/2., height,\n",
    "                    f'{height:.2f}',\n",
    "                    ha='center', va='bottom')\n",
    "    \n",
    "    plt.tight_layout()\n",
    "    plt.show()\n",
    "    \n",
    "    # Create a summary table\n",
    "    summary_df = pd.DataFrame(metrics, index=strategy_names)\n",
    "    display(summary_df)\n",
    "\n",
    "# Plot the comparisons\n",
    "plot_strategy_comparisons(strategy_best_results, all_backtest_results)"
   ]
  }
 ],
 "metadata": {
  "kernelspec": {
   "display_name": "otus",
   "language": "python",
   "name": "python3"
  },
  "language_info": {
   "codemirror_mode": {
    "name": "ipython",
    "version": 3
   },
   "file_extension": ".py",
   "mimetype": "text/x-python",
   "name": "python",
   "nbconvert_exporter": "python",
   "pygments_lexer": "ipython3",
   "version": "3.9.21"
  }
 },
 "nbformat": 4,
 "nbformat_minor": 4
}
