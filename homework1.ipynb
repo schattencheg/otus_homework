{
 "cells": [
  {
   "cell_type": "markdown",
   "metadata": {},
   "source": [
    "Вас пригласили на работу в коммерческую компанию, занимающуюся разработкой автоматизированных торговых агентов. Одной из первых ваших задач будет подготовка данных для дальнейшей обработки и построения модели. Пообщавшись с коллегами, вы узнали, что вам предстоит работать с несколькими типами активов: акциями из списка SnP500 и криптовалютами (BTC, ETH, SOL, XRP). Вам планируют поручить краткосрочную и среднесрочную торговлю.\n",
    "\n",
    "\n",
    "Вам предлагается на основе предоставленной информации:\n",
    "\n",
    "\n",
    "1. Создать git-репозиторий, где будет храниться исходный код вашего проекта. Если вы используете приватный репозиторий – дайте преподавателям курса доступ к нему, для возможности проверки ДЗ.\n",
    "2. Добавить файл лицензии, который отражает ваш взгляд на конфиденциальность информации, которую вы подготовите в рамках данного курса.\n",
    "3. Создать код на Python, который загрузит на ваш локальный компьютер данные о котировках ценных бумаг из списка SnP500 и котировки криптовалют (BTC, ETH, SOL, XRP).\n",
    "4. Поскольку вам предстоит много работать с ними в дальнейшем, подготовьте автоматическое отображение графиков текущей ситуации.\n",
    "5. Проверьте нет ли в данных пропусков или ошибок. Проанализируйте выбросы. Оцените, на самом ли деле это выбросы или реальные данные, с которыми предстоит работать."
   ]
  },
  {
   "cell_type": "code",
   "execution_count": null,
   "metadata": {},
   "outputs": [],
   "source": [
    "# Initialization cell\n",
    "\n",
    "!pip install yfinance -qq\n",
    "import yfinance as yf\n",
    "import pandas_datareader as web\n",
    "import pandas as pd\n",
    "import os\n",
    "import plotly.graph_objects as go\n",
    "\n",
    "\n",
    "# Create Data directory if it doesn't exist\n",
    "dir_stocks = os.path.join('data', 'stock')\n",
    "if not os.path.exists(dir_stocks):\n",
    "    os.makedirs(dir_stocks)\n",
    "dir_crypto = os.path.join('data', 'crypto')\n",
    "if not os.path.exists(dir_crypto):\n",
    "    os.makedirs(dir_crypto)"
   ]
  },
  {
   "cell_type": "code",
   "execution_count": null,
   "metadata": {},
   "outputs": [],
   "source": [
    "# Data download to subfolders cell\n",
    "\n",
    "tickers = pd.read_html('https://en.wikipedia.org/wiki/List_of_S%26P_500_companies')[0]['Symbol'].str.replace('.','-', regex=True).to_list()[:10]\n",
    "data = yf.download(tickers=tickers,group_by='Ticker',multi_level_index=False,progress=False)\n",
    "data_per_ticker = {}\n",
    "for ticker in tickers:\n",
    "    df = data[ticker].dropna()\n",
    "    df.to_csv(os.path.join(dir_stocks, ticker + '.csv'))\n",
    "\n",
    "\n",
    "# Download crypto data\n",
    "cryptos = ['BTC-USD', 'ETH-USD', 'SOL-USD', 'XRP-USD']\n",
    "for crypto in cryptos:\n",
    "    data = yf.download(crypto, multi_level_index=False,progress=False).dropna()\n",
    "    data.to_csv(os.path.join(dir_crypto, crypto.split(\"-\")[0] + '.csv'))\n"
   ]
  },
  {
   "cell_type": "code",
   "execution_count": null,
   "metadata": {},
   "outputs": [],
   "source": [
    "# Functions definition cell\n",
    "\n",
    "def load_data(ticker: str, is_crypto: bool = False):\n",
    "    df: pd.DataFrame = None\n",
    "    path = dir_stocks\n",
    "    if is_crypto:\n",
    "        path = dir_crypto\n",
    "    path = os.path.join(path, ticker + '.csv')\n",
    "    if os.path.exists(path):\n",
    "        df = pd.read_csv(path, parse_dates=['Date'])\n",
    "    else:\n",
    "        print(f'No file for {ticker} at {path}')\n",
    "    return df\n",
    "\n",
    "def plot(df, time_start = None, time_end = None):\n",
    "    if time_start is None:\n",
    "        time_start = min(df['Date'])\n",
    "    if time_end is None:\n",
    "        time_end = max(df['Date'])\n",
    "    df = df[(df['Date'] >= start_time) & (df['Date'] <= end_time)]\n",
    "    fig = go.Figure(data=[go.Candlestick(x=df['Date'],\n",
    "                open=df['Open'],\n",
    "                high=df['High'],\n",
    "                low=df['Low'],\n",
    "                close=df['Close'])])\n",
    "    fig.show()        "
   ]
  },
  {
   "cell_type": "code",
   "execution_count": null,
   "metadata": {},
   "outputs": [],
   "source": [
    "df = load_data('A')\n",
    "time_start = pd.to_datetime('2000-01-01')\n",
    "time_end   = pd.to_datetime('2000-01-05')\n",
    "plot(df, time_start, time_end)"
   ]
  },
  {
   "cell_type": "code",
   "execution_count": null,
   "metadata": {},
   "outputs": [],
   "source": []
  },
  {
   "cell_type": "code",
   "execution_count": null,
   "metadata": {},
   "outputs": [],
   "source": []
  },
  {
   "cell_type": "code",
   "execution_count": null,
   "metadata": {},
   "outputs": [],
   "source": []
  }
 ],
 "metadata": {
  "kernelspec": {
   "display_name": "Python 3 (ipykernel)",
   "language": "python",
   "name": "python3"
  },
  "language_info": {
   "codemirror_mode": {
    "name": "ipython",
    "version": 3
   },
   "file_extension": ".py",
   "mimetype": "text/x-python",
   "name": "python",
   "nbconvert_exporter": "python",
   "pygments_lexer": "ipython3",
   "version": "3.9.13"
  }
 },
 "nbformat": 4,
 "nbformat_minor": 2
}
